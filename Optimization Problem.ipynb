{
 "cells": [
  {
   "cell_type": "code",
   "execution_count": 1,
   "id": "52b9d70d",
   "metadata": {},
   "outputs": [],
   "source": [
    "#importing necessary libraries\n",
    "import cvxpy as cp\n",
    "import numpy as np"
   ]
  },
  {
   "cell_type": "code",
   "execution_count": 2,
   "id": "1da811ec",
   "metadata": {},
   "outputs": [],
   "source": [
    "# initializing random 2x2 matrices A and B\n",
    "np.random.seed(42) \n",
    "A = np.random.rand(2, 2)\n",
    "B = np.random.rand(2, 2)"
   ]
  },
  {
   "cell_type": "code",
   "execution_count": 3,
   "id": "ec51d246",
   "metadata": {},
   "outputs": [],
   "source": [
    "# caculating the frobenius norm for A and B \n",
    "# frobenius norm of a matrix is the euclidean norm when it is viewed as a vector of its elements\n",
    "norm_A = np.linalg.norm(A, 'fro')\n",
    "norm_B = np.linalg.norm(B, 'fro')"
   ]
  },
  {
   "cell_type": "code",
   "execution_count": 4,
   "id": "09adaf70",
   "metadata": {},
   "outputs": [],
   "source": [
    "# defining the ReLU activation function\n",
    "def relu(x):\n",
    "    return np.maximum(0, x)"
   ]
  },
  {
   "cell_type": "code",
   "execution_count": 5,
   "id": "7194ce56",
   "metadata": {},
   "outputs": [],
   "source": [
    "# defining the variable x for the optimization problem\n",
    "# it is a 2*1 matrice\n",
    "X = cp.Variable((2, 1))"
   ]
  },
  {
   "cell_type": "code",
   "execution_count": 6,
   "id": "059b593b",
   "metadata": {},
   "outputs": [],
   "source": [
    "# defining the constraint: f(X) <= norm(A) * norm(B)\n",
    "constraint = cp.norm(B @ cp.maximum(A @ X, 0), 2) <= norm_A * norm_B"
   ]
  },
  {
   "cell_type": "code",
   "execution_count": 7,
   "id": "aacb7d10",
   "metadata": {},
   "outputs": [],
   "source": [
    "# defining our objective which is to minimize f(X) given the constraints\n",
    "objective = cp.Minimize(0)  "
   ]
  },
  {
   "cell_type": "code",
   "execution_count": 8,
   "id": "c198e256",
   "metadata": {},
   "outputs": [],
   "source": [
    "# defining the problem\n",
    "problem = cp.Problem(objective, [constraint])"
   ]
  },
  {
   "cell_type": "code",
   "execution_count": 9,
   "id": "89bfb665",
   "metadata": {},
   "outputs": [],
   "source": [
    "# solving the problem\n",
    "problem.solve();"
   ]
  },
  {
   "cell_type": "code",
   "execution_count": 10,
   "id": "2e9dcdba",
   "metadata": {},
   "outputs": [],
   "source": [
    "# getting the feasible solution\n",
    "feasible_X = X.value if problem.status == cp.OPTIMAL else None"
   ]
  },
  {
   "cell_type": "code",
   "execution_count": 11,
   "id": "d55fa581",
   "metadata": {},
   "outputs": [
    {
     "name": "stdout",
     "output_type": "stream",
     "text": [
      "[[-0.61171024]\n",
      " [ 0.13560253]]\n"
     ]
    }
   ],
   "source": [
    "# printing the feasible solution\n",
    "print(feasible_X)"
   ]
  },
  {
   "cell_type": "code",
   "execution_count": 12,
   "id": "a142ae82",
   "metadata": {},
   "outputs": [],
   "source": [
    "def findx(A, B):    \n",
    "    # caculating the frobenius norm for A and B \n",
    "    # Frobenius norm of a matrix is the Euclidean norm when it is viewed as a vector of its elements\n",
    "    norm_A = np.linalg.norm(A, 'fro')\n",
    "    norm_B = np.linalg.norm(B, 'fro')\n",
    "\n",
    "    # defining the ReLU activation function\n",
    "    def relu(x):\n",
    "        return np.maximum(0, x)\n",
    "\n",
    "    # defining the variable x for the optimization problem\n",
    "    # it is a 2*1 matrice\n",
    "    X = cp.Variable((2, 1))\n",
    "\n",
    "    # defining the constraint: f(X) <= norm(A) * norm(B)\n",
    "    constraint = cp.norm(B @ cp.maximum(A @ X, 0), 2) <= norm_A * norm_B\n",
    "\n",
    "    # defining our objective which is to minimize f(X) given the constraints\n",
    "    objective = cp.Minimize(0)  \n",
    "\n",
    "    # defining the problem\n",
    "    problem = cp.Problem(objective, [constraint])\n",
    "\n",
    "    # solving the problem\n",
    "    problem.solve();\n",
    "\n",
    "    # getting the feasible solution\n",
    "    feasible_X = X.value if problem.status == cp.OPTIMAL else None\n",
    "    return feasible_X\n"
   ]
  },
  {
   "cell_type": "code",
   "execution_count": 13,
   "id": "5f6cd619",
   "metadata": {},
   "outputs": [
    {
     "name": "stdout",
     "output_type": "stream",
     "text": [
      "[[-0.16380744]\n",
      " [-0.16380744]]\n"
     ]
    },
    {
     "name": "stderr",
     "output_type": "stream",
     "text": [
      "C:\\Users\\Keya\\anaconda3\\lib\\site-packages\\cvxpy\\expressions\\constants\\constant.py:53: UserWarning: Initializing a Constant with a nested list is undefined behavior. Consider using a numpy array instead.\n",
      "  warnings.warn(NESTED_LIST_WARNING)\n"
     ]
    }
   ],
   "source": [
    "# example 1\n",
    "# A and B are 2*2 identity matrices\n",
    "A= ([[1, 0],[0, 1]])\n",
    "B= ([[1, 0],[0, 1]])\n",
    "print(findx(A,B))"
   ]
  },
  {
   "cell_type": "code",
   "execution_count": 14,
   "id": "2ef796de",
   "metadata": {},
   "outputs": [
    {
     "name": "stdout",
     "output_type": "stream",
     "text": [
      "[[-0.13663056]\n",
      " [-0.13663056]]\n"
     ]
    }
   ],
   "source": [
    "# example 2\n",
    "A= ([[1, 1],[1, 1]])\n",
    "B= ([[1, 1],[1, 1]])\n",
    "print(findx(A,B))"
   ]
  },
  {
   "cell_type": "code",
   "execution_count": 15,
   "id": "330bfddf",
   "metadata": {},
   "outputs": [
    {
     "name": "stdout",
     "output_type": "stream",
     "text": [
      "[[-0.14501157]\n",
      " [-0.14501157]]\n"
     ]
    }
   ],
   "source": [
    "# example 3 \n",
    "A= ([[1, 2],[2, 1]])\n",
    "B= ([[1, 0],[0, 1]])\n",
    "print(findx(A,B))"
   ]
  },
  {
   "cell_type": "code",
   "execution_count": 16,
   "id": "50a749a7",
   "metadata": {},
   "outputs": [
    {
     "name": "stdout",
     "output_type": "stream",
     "text": [
      "[[-0.23875297]\n",
      " [-0.23875297]]\n"
     ]
    }
   ],
   "source": [
    "# example 4 \n",
    "A= ([[1, 2],[2, 1]])\n",
    "B= ([[1, 2],[2, 1]])\n",
    "print(findx(A,B))"
   ]
  },
  {
   "cell_type": "code",
   "execution_count": 17,
   "id": "3e2f59fc",
   "metadata": {},
   "outputs": [
    {
     "name": "stdout",
     "output_type": "stream",
     "text": [
      "[[-0.51775871]\n",
      " [-0.0150125 ]]\n"
     ]
    }
   ],
   "source": [
    "# example 5 \n",
    "A= ([[2, 3],[3, 4]])\n",
    "B= ([[6, 1],[2, 8]])\n",
    "print(findx(A,B))"
   ]
  },
  {
   "cell_type": "code",
   "execution_count": 18,
   "id": "f7e2f247",
   "metadata": {},
   "outputs": [
    {
     "name": "stdout",
     "output_type": "stream",
     "text": [
      "[[  -0.80260322]\n",
      " [-216.79089754]]\n"
     ]
    }
   ],
   "source": [
    "# example 6 \n",
    "A= ([[200, 300],[300, 400]])\n",
    "B= ([[600, 100],[200, 800]])\n",
    "print(findx(A,B))"
   ]
  },
  {
   "cell_type": "code",
   "execution_count": 19,
   "id": "42e4929e",
   "metadata": {},
   "outputs": [
    {
     "name": "stdout",
     "output_type": "stream",
     "text": [
      "[[-597.84445796]\n",
      " [-116.80376786]]\n"
     ]
    }
   ],
   "source": [
    "# example 7\n",
    "A= ([[18, 29],[36, 487]])\n",
    "B= ([[12, 345],[890, 243]])\n",
    "print(findx(A,B))"
   ]
  },
  {
   "cell_type": "code",
   "execution_count": 20,
   "id": "c9384fe4",
   "metadata": {},
   "outputs": [
    {
     "name": "stdout",
     "output_type": "stream",
     "text": [
      "[[0.51775871]\n",
      " [0.0150125 ]]\n"
     ]
    }
   ],
   "source": [
    "# example 8\n",
    "A= ([[-2, -3],[-3, -4]])\n",
    "B= ([[-6, -1],[-2, -8]])\n",
    "print(findx(A,B))"
   ]
  },
  {
   "cell_type": "code",
   "execution_count": 21,
   "id": "0964e4ef",
   "metadata": {},
   "outputs": [
    {
     "name": "stdout",
     "output_type": "stream",
     "text": [
      "[[-8.21160356]\n",
      " [-7.182299  ]]\n"
     ]
    }
   ],
   "source": [
    "# example 9\n",
    "A= ([[20, 16],[90, 41]])\n",
    "B= ([[65, 10],[22, 79]])\n",
    "print(findx(A,B))"
   ]
  },
  {
   "cell_type": "code",
   "execution_count": 22,
   "id": "89cd728c",
   "metadata": {},
   "outputs": [
    {
     "name": "stdout",
     "output_type": "stream",
     "text": [
      "[[-0.28023744]\n",
      " [-0.23233844]]\n"
     ]
    }
   ],
   "source": [
    "# example 10 \n",
    "A= ([[3, 3],[3, 10]])\n",
    "B= ([[6, 1],[2, 6]])\n",
    "print(findx(A,B))"
   ]
  }
 ],
 "metadata": {
  "kernelspec": {
   "display_name": "Python 3 (ipykernel)",
   "language": "python",
   "name": "python3"
  },
  "language_info": {
   "codemirror_mode": {
    "name": "ipython",
    "version": 3
   },
   "file_extension": ".py",
   "mimetype": "text/x-python",
   "name": "python",
   "nbconvert_exporter": "python",
   "pygments_lexer": "ipython3",
   "version": "3.10.9"
  }
 },
 "nbformat": 4,
 "nbformat_minor": 5
}
