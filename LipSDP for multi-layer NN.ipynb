{
 "cells": [
  {
   "cell_type": "code",
   "execution_count": 1,
   "id": "441af545",
   "metadata": {},
   "outputs": [],
   "source": [
    "# importing necessary libraries\n",
    "import cvxpy as cp\n",
    "import numpy as np"
   ]
  },
  {
   "cell_type": "markdown",
   "id": "2e3884d5",
   "metadata": {},
   "source": [
    "### Trivial Lipschitz constant (product of spectral norm)"
   ]
  },
  {
   "cell_type": "code",
   "execution_count": 2,
   "id": "1d4fc759",
   "metadata": {},
   "outputs": [],
   "source": [
    "def trivial(W0, W1, W2):\n",
    "    \n",
    "    # computes 2-norm also known as Spectral norm\n",
    "    \n",
    "    norm_W0 = np.linalg.norm(W0, ord=2)\n",
    "    norm_W1 = np.linalg.norm(W1, ord=2)\n",
    "    norm_W2 = np.linalg.norm(W2, ord=2)\n",
    "    lipschitz_constant = norm_W0 * norm_W1 * norm_W2\n",
    "    \n",
    "    return lipschitz_constant"
   ]
  },
  {
   "cell_type": "markdown",
   "id": "9cf1d8a5",
   "metadata": {},
   "source": [
    "### Original LipSDP algorithm:"
   ]
  },
  {
   "cell_type": "code",
   "execution_count": 3,
   "id": "d3bfa557",
   "metadata": {},
   "outputs": [],
   "source": [
    "def lipsdp_multilayer(W0, W1, W2):\n",
    "    \n",
    "    n0 = W0.shape[1]\n",
    "    n1 = W1.shape[1]\n",
    "    n2 = W2.shape[1]\n",
    "    \n",
    "    n = n1 + n2 # total number of hidden neurons\n",
    "    \n",
    "    # defining the decision variables\n",
    "    rho = cp.Variable(nonneg=True)\n",
    "    diag_entries = cp.Variable(n, nonneg=True)\n",
    "    T = cp.diag(diag_entries)\n",
    "\n",
    "\n",
    "    # constructing zero matrices with matching dimensions\n",
    "    W0_zeros = cp.Constant(np.zeros((W0.shape[0], W0.shape[1])))\n",
    "    W1_zeros = cp.Constant(np.zeros((W1.shape[0], W1.shape[1])))\n",
    "    n0_zeros = cp.Constant(np.zeros((n0, n0)))\n",
    "    n1_zeros = cp.Constant(np.zeros((n1, n1)))\n",
    "    n2_zeros = cp.Constant(np.zeros((n2, n2)))\n",
    "    \n",
    "    # formulating the matrix M\n",
    "    \n",
    "    A = cp.bmat([[W0, W0_zeros , W0_zeros], [W1_zeros, W1, W1_zeros]])\n",
    "    B = cp.bmat([[n1_zeros, np.eye(n1), n1_zeros], [n2_zeros, n2_zeros, np.eye(n2)]])\n",
    "    P = cp.bmat([[-rho*np.eye(n0), n0_zeros, n0_zeros], [n1_zeros, n1_zeros, n1_zeros], [n2_zeros, n2_zeros, W2.T@W2]])\n",
    "    \n",
    "    X = cp.bmat([[A], [B]])\n",
    "    M1 = cp.bmat([[-2 * alpha * beta * T, (alpha + beta) * T], [(alpha + beta) * T, - 2 * T]])\n",
    "    M = X.T  @ M1 @ X + P\n",
    "    \n",
    "    # defining the constraints\n",
    "    constraints = [M << 0, diag_entries >= 0]\n",
    "\n",
    "    # defining the objective\n",
    "    objective = cp.Minimize(rho)\n",
    "\n",
    "    # defining the problem \n",
    "    problem = cp.Problem(objective, constraints)\n",
    "    \n",
    "    # solving the problem\n",
    "    problem.solve(solver=cp.SCS)\n",
    "\n",
    "    if problem.status not in [\"infeasible\", \"unbounded\"]:\n",
    "        lipschitz_constant = np.sqrt(rho.value)\n",
    "        return lipschitz_constant\n",
    "    else:\n",
    "        return None"
   ]
  },
  {
   "cell_type": "code",
   "execution_count": 4,
   "id": "3759294b",
   "metadata": {},
   "outputs": [],
   "source": [
    "# since ReLU is slope restricted on [0, 1]\n",
    "alpha = 0  # lower bound \n",
    "beta = 1   # upper bound"
   ]
  },
  {
   "cell_type": "code",
   "execution_count": 5,
   "id": "09f1ac61",
   "metadata": {},
   "outputs": [
    {
     "name": "stdout",
     "output_type": "stream",
     "text": [
      "Lipschitz constant is: 0.9999861799821286\n"
     ]
    }
   ],
   "source": [
    "# identity weight matrix test case\n",
    "W0 = np.array([[1, 0], [0, 1]])\n",
    "W1 = np.array([[1, 0], [0, 1]])\n",
    "W2 = np.array([[1, 0], [0, 1]])\n",
    "l = lipsdp_multilayer(W0, W1, W2)\n",
    "print(f\"Lipschitz constant is: {l}\")"
   ]
  },
  {
   "cell_type": "code",
   "execution_count": 6,
   "id": "5e70cede",
   "metadata": {},
   "outputs": [
    {
     "name": "stdout",
     "output_type": "stream",
     "text": [
      "Lipschitz constant is: 1.9038813463117705\n"
     ]
    }
   ],
   "source": [
    "# randomly initialized weight matrices\n",
    "W0 = np.random.rand(2, 2)\n",
    "W1 = np.random.rand(2, 2)\n",
    "W2 = np.random.rand(2, 2)\n",
    "l = lipsdp_multilayer(W0, W1, W2)\n",
    "print(f\"Lipschitz constant is: {l}\")"
   ]
  },
  {
   "cell_type": "markdown",
   "id": "cc3f1c1e",
   "metadata": {},
   "source": [
    "## Improving LipSDP: Encoding ***Monotonocity*** of ReLU for a multi-layer NN"
   ]
  },
  {
   "cell_type": "code",
   "execution_count": 7,
   "id": "db08729f",
   "metadata": {},
   "outputs": [],
   "source": [
    "def lipsdp_multilayer1(W0, W1, W2):\n",
    "    \n",
    "    n0 = W0.shape[1]\n",
    "    n1 = W1.shape[1]\n",
    "    n2 = W2.shape[1]\n",
    "    \n",
    "    n = n1 + n2 # total number of hidden neurons\n",
    "    \n",
    "    # defining the decision variables\n",
    "    rho = cp.Variable(nonneg=True)\n",
    "    diag_entries = cp.Variable(n, nonneg=True)\n",
    "    T = cp.diag(diag_entries)\n",
    "    \n",
    "    diag_entries1 = cp.Variable(n0, nonneg=True)\n",
    "    T1 = cp.diag(diag_entries1)\n",
    "    diag_entries2 = cp.Variable(n1, nonneg=True)\n",
    "    T2 = cp.diag(diag_entries2)\n",
    "    diag_entries3 = cp.Variable(n1, nonneg=True)\n",
    "    T3 = cp.diag(diag_entries3)\n",
    "    diag_entries4 = cp.Variable(n2, nonneg=True)\n",
    "    T4 = cp.diag(diag_entries4)\n",
    "\n",
    "\n",
    "    # constructing zero matrices with matching dimensions\n",
    "    W0_zeros = cp.Constant(np.zeros((W0.shape[0], W1.shape[1])))\n",
    "    W1_zeros = cp.Constant(np.zeros((W1.shape[0], W1.shape[1])))\n",
    "    n0_zeros = cp.Constant(np.zeros((n0, n0)))\n",
    "    n1_zeros = cp.Constant(np.zeros((n1, n1)))\n",
    "    n2_zeros = cp.Constant(np.zeros((n2, n2)))\n",
    "    \n",
    "    # formulating the matrix M\n",
    "    \n",
    "    A = cp.bmat([[W0, W0_zeros , W0_zeros], \n",
    "                 [W1_zeros, W1, W1_zeros]])\n",
    "    B = cp.bmat([[n1_zeros, np.eye(n1), n1_zeros], \n",
    "                 [n2_zeros, n2_zeros, np.eye(n2)]])\n",
    "    P = cp.bmat([[-rho*np.eye(n0), n0_zeros, n0_zeros], \n",
    "                 [n1_zeros, n1_zeros, n1_zeros], \n",
    "                 [n2_zeros, n2_zeros, W2.T@W2]])\n",
    "    S = cp.bmat([[n0_zeros, T1, n0_zeros, n0_zeros], \n",
    "                 [n1_zeros, n1_zeros, n1_zeros, T2], \n",
    "                 [T3, n1_zeros, n1_zeros, n1_zeros], \n",
    "                 [n2_zeros, n2_zeros, T4, n2_zeros]])\n",
    "                 \n",
    "    \n",
    "    X = cp.bmat([[A], [B]])\n",
    "    M1 = cp.bmat([[-2 * alpha * beta * T, (alpha + beta) * T ], [(alpha + beta) * T , - 2 * T]])\n",
    "    M = X.T  @ M1 @ X + P + X.T  @ S @ X\n",
    "    \n",
    "    # defining the constraints\n",
    "    constraints = [M << 0, diag_entries >= 0, diag_entries1 >= 0, diag_entries2 >= 0, diag_entries3 >= 0, diag_entries4 >=0]\n",
    "\n",
    "    # defining the objective\n",
    "    objective = cp.Minimize(rho)\n",
    "\n",
    "    # defining the problem \n",
    "    problem = cp.Problem(objective, constraints)\n",
    "    \n",
    "    # solving the problem\n",
    "    problem.solve(solver=cp.SCS)\n",
    "\n",
    "    if problem.status not in [\"infeasible\", \"unbounded\"]:\n",
    "        lipschitz_constant = np.sqrt(rho.value)\n",
    "        return lipschitz_constant\n",
    "    else:\n",
    "        return None"
   ]
  },
  {
   "cell_type": "code",
   "execution_count": 8,
   "id": "e6a3655c",
   "metadata": {},
   "outputs": [
    {
     "name": "stdout",
     "output_type": "stream",
     "text": [
      "Trivial Lipschitz constant is: 1.5526253278878073\n",
      "Lipschitz constant using LipSDP is: 1.2355438794343736\n",
      "Lipschitz constant by introducing monotonicity constraints is: 1.2355395272710914\n"
     ]
    }
   ],
   "source": [
    "# randomly initialized weight matrices\n",
    "W0 = np.random.rand(2, 2)\n",
    "W1 = np.random.rand(2, 2)\n",
    "W2 = np.random.rand(2, 2)\n",
    "l1 = lipsdp_multilayer(W0, W1, W2)\n",
    "l2 = lipsdp_multilayer1(W0, W1, W2)\n",
    "trivial_l = trivial(W0, W1, W2)\n",
    "print(f\"Trivial Lipschitz constant is: {trivial_l}\")\n",
    "print(f\"Lipschitz constant using LipSDP is: {l1}\")\n",
    "print(f\"Lipschitz constant by introducing monotonicity constraints is: {l2}\") "
   ]
  },
  {
   "cell_type": "code",
   "execution_count": 12,
   "id": "47951efd",
   "metadata": {},
   "outputs": [
    {
     "name": "stdout",
     "output_type": "stream",
     "text": [
      "% of testcases where Multi-Layer LipSDP gives a tighter bound than the trivial one:100.0\n",
      "% of testcases where Multi-Layer LipSDP1 gives a tighter bound than the trivial one:100.0\n",
      "% of testcases where Multi-Layer LipSDP1 gives a tighter bound than Multi-Layer LipSDP:53.0\n"
     ]
    }
   ],
   "source": [
    "# iterating over random testcases\n",
    "iter = 100\n",
    "lip_triv = 0 # counter for when Multi-layer LipSDP gives tighter estimation than trivial bound\n",
    "lip1_triv = 0 # counter for when Multi-layer LipSDP1 gives tighter estimation than the trivial bound\n",
    "lip1_lip = 0 # counter for when Multi-layer LipSDP1 gives tighter estimation than Multilayer LipSDP\n",
    "\n",
    "\n",
    "for iteration in range(iter):\n",
    "    \n",
    "    # random normalized 2*2 weight matrices\n",
    "\n",
    "    W0 = np.random.rand(2, 2)\n",
    "    W1 = np.random.rand(2, 2)\n",
    "    W2 = np.random.rand(2, 2)\n",
    "    \n",
    "    # computing LipSDP Lipschitz constants and evaluating the results\n",
    "    l = lipsdp_multilayer(W0, W1, W2)\n",
    "    l1 = lipsdp_multilayer1(W0, W1, W2)\n",
    "    triv = trivial(W0, W1, W2)\n",
    "    if l1<l:\n",
    "        lip1_lip+=1\n",
    "    if l<triv:\n",
    "        lip_triv+=1\n",
    "    if l1<triv:\n",
    "        lip1_triv+=1\n",
    "    \n",
    "print(f\"% of testcases where Multi-Layer LipSDP gives a tighter bound than the trivial one:{(lip_triv/iter)*100}\")\n",
    "print(f\"% of testcases where Multi-Layer LipSDP1 gives a tighter bound than the trivial one:{(lip1_triv/iter)*100}\")\n",
    "print(f\"% of testcases where Multi-Layer LipSDP1 gives a tighter bound than Multi-Layer LipSDP:{(lip1_lip/iter)*100}\")"
   ]
  },
  {
   "cell_type": "code",
   "execution_count": null,
   "id": "826fc6bd",
   "metadata": {},
   "outputs": [],
   "source": []
  }
 ],
 "metadata": {
  "kernelspec": {
   "display_name": "Python 3 (ipykernel)",
   "language": "python",
   "name": "python3"
  },
  "language_info": {
   "codemirror_mode": {
    "name": "ipython",
    "version": 3
   },
   "file_extension": ".py",
   "mimetype": "text/x-python",
   "name": "python",
   "nbconvert_exporter": "python",
   "pygments_lexer": "ipython3",
   "version": "3.10.9"
  }
 },
 "nbformat": 4,
 "nbformat_minor": 5
}
