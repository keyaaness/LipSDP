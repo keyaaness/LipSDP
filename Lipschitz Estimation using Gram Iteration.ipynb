{
 "cells": [
  {
   "cell_type": "code",
   "execution_count": 2,
   "id": "eb7d0252",
   "metadata": {},
   "outputs": [],
   "source": [
    "# importing necessary libraries\n",
    "\n",
    "import cvxpy as cp\n",
    "import numpy as np\n",
    "import matplotlib.pyplot as plt\n",
    "import tensorflow as tf\n",
    "import torch\n",
    "import torchvision.models as models"
   ]
  },
  {
   "cell_type": "markdown",
   "id": "5724ec21",
   "metadata": {},
   "source": [
    "## Power Iteration Algorithm"
   ]
  },
  {
   "cell_type": "code",
   "execution_count": 3,
   "id": "cb12d45e",
   "metadata": {},
   "outputs": [],
   "source": [
    "# function for the Power Iteration Algorithm\n",
    "\n",
    "def power_iteration(G, num_iter):\n",
    "    u = np.random.rand(G.shape[1])\n",
    "    u = u / np.linalg.norm(u)\n",
    "    \n",
    "    # Power Iteration\n",
    "    for _ in range(num_iter):\n",
    "        u = np.dot(G, u)\n",
    "        u = u / np.linalg.norm(u)\n",
    "    \n",
    "    # calculating the eigenvalue\n",
    "    sigma_1 = np.dot(u, np.dot(G, u)) / np.dot(u, u)\n",
    "    # returning the eigenvalue and eigenvector\n",
    "    return sigma_1, u"
   ]
  },
  {
   "cell_type": "markdown",
   "id": "1b817dab",
   "metadata": {},
   "source": [
    "## Gram Iteration Algorithm"
   ]
  },
  {
   "cell_type": "markdown",
   "id": "055a81eb",
   "metadata": {},
   "source": [
    "Gram Iteration is an itertive algorithm as described in [Delattre, Blaise, et al. \"Efficient bound of Lipschitz constant for convolutional layers by gram iteration.\" International Conference on Machine Learning. PMLR, 2023.] (http://proceedings.mlr.press/v202/delattre23a.html). It gives us an upper bound on the Lipschitz constant (spectral norm) of a neural network layer taking into consideration a single layer's weight matrix. This algorithm exhibits superlinear convergence."
   ]
  },
  {
   "cell_type": "code",
   "execution_count": 4,
   "id": "8371eb55",
   "metadata": {},
   "outputs": [],
   "source": [
    "# function for the Gram Iteration Algorithm\n",
    "\n",
    "def gram_iteration(G, N_iter):\n",
    "    # initializing rescaling\n",
    "    r = 0\n",
    "    G_norm = np.linalg.norm(G, ord='fro')\n",
    "    for _ in range(N_iter):\n",
    "        # rescaling to avoid overflow\n",
    "        G = G / np.linalg.norm(G, ord='fro')\n",
    "        # gram iteration\n",
    "        G = G @ G.T\n",
    "        # cumulate rescaling\n",
    "        r = 2*(r + np.log(np.linalg.norm(G, ord='fro')))\n",
    "    # computing final result\n",
    "    sigma_1 = np.linalg.norm(G, ord=2)**(1/(2**N_iter)) * np.exp(r / (2**N_iter))* G_norm * G_norm\n",
    "    \n",
    "    return sigma_1"
   ]
  },
  {
   "cell_type": "markdown",
   "id": "53c69397",
   "metadata": {},
   "source": [
    "## Actual Spectral Norm"
   ]
  },
  {
   "cell_type": "code",
   "execution_count": 5,
   "id": "e0b4277c",
   "metadata": {},
   "outputs": [],
   "source": [
    "# function to calculate the actual spectral norm\n",
    "\n",
    "def spectral_norm(G):\n",
    "    return np.linalg.norm(G, ord=2)"
   ]
  },
  {
   "cell_type": "markdown",
   "id": "ec14f644",
   "metadata": {},
   "source": [
    "### Testing the above iterative algorithms:"
   ]
  },
  {
   "cell_type": "code",
   "execution_count": 6,
   "id": "689d161d",
   "metadata": {},
   "outputs": [
    {
     "name": "stdout",
     "output_type": "stream",
     "text": [
      "Actual Spectral Norm:  1.0\n",
      "Largest Eigenvalue found using Power Iteration: 1.0\n",
      "Spectral Norm found using Gram Iteration: 1.0\n"
     ]
    }
   ],
   "source": [
    "# identity matrix test case\n",
    "G = np.array([[1, 0, 0, 0], [0, 1, 0, 0], [0, 0, 1, 0], [0, 0, 0, 1]])\n",
    "num_iter = 1000\n",
    "spectral_norm_trivial = spectral_norm(G)\n",
    "print(\"Actual Spectral Norm: \", spectral_norm_trivial)\n",
    "eigenvalue, eigenvector = power_iteration(G, num_iter)\n",
    "print(\"Largest Eigenvalue found using Power Iteration:\", eigenvalue)\n",
    "spectral_norm_gi = gram_iteration(G, num_iter)\n",
    "print(\"Spectral Norm found using Gram Iteration:\", np.sqrt(spectral_norm_gi))"
   ]
  },
  {
   "cell_type": "code",
   "execution_count": 7,
   "id": "a679b5bf",
   "metadata": {},
   "outputs": [
    {
     "name": "stdout",
     "output_type": "stream",
     "text": [
      "Actual Spectral Norm:  1.0733475058542914\n",
      "Largest Eigenvalue found using Power Iteration: 1.0254878104850516\n",
      "Spectral Norm found using Gram Iteration: 1.0733475058542914\n"
     ]
    }
   ],
   "source": [
    "# randomly initialized G\n",
    "G = np.random.rand(2, 2)\n",
    "num_iter = 1000\n",
    "spectral_norm_trivial = spectral_norm(G)\n",
    "print(\"Actual Spectral Norm: \", spectral_norm_trivial)\n",
    "eigenvalue, eigenvector = power_iteration(G, num_iter)\n",
    "print(\"Largest Eigenvalue found using Power Iteration:\", eigenvalue)\n",
    "spectral_norm_gi = gram_iteration(G, num_iter)\n",
    "print(\"Spectral Norm found using Gram Iteration:\", np.sqrt(spectral_norm_gi))"
   ]
  },
  {
   "cell_type": "markdown",
   "id": "b308f4c8",
   "metadata": {},
   "source": [
    "## Testing Gram Iteration AlexNet"
   ]
  },
  {
   "cell_type": "code",
   "execution_count": 10,
   "id": "94ea8ef0",
   "metadata": {},
   "outputs": [],
   "source": [
    "# AlexNet\n",
    "alexnet = models.alexnet(weights=True)"
   ]
  },
  {
   "cell_type": "code",
   "execution_count": 11,
   "id": "69d15d6b",
   "metadata": {},
   "outputs": [
    {
     "name": "stdout",
     "output_type": "stream",
     "text": [
      "Weight matrix G shape: (4096, 9216)\n"
     ]
    }
   ],
   "source": [
    "# accessing the first fully connected layer\n",
    "fc6 = alexnet.classifier[1]\n",
    "\n",
    "# extracting the weight matrix G as a NumPy array\n",
    "G = fc6.weight.data.numpy()\n",
    "print(\"Weight matrix G shape:\", G.shape)"
   ]
  },
  {
   "cell_type": "code",
   "execution_count": 12,
   "id": "dc7deaa3",
   "metadata": {},
   "outputs": [
    {
     "name": "stdout",
     "output_type": "stream",
     "text": [
      "Spectral Norm using Gram Iteration: 5.938241062674558\n",
      "Actual Spectral Norm: 5.938241\n"
     ]
    }
   ],
   "source": [
    "num_iter = 10\n",
    "spectral_norm_gi = gram_iteration(G, num_iter)\n",
    "print(\"Spectral Norm using Gram Iteration:\", np.sqrt(spectral_norm_gi))\n",
    "spectral_norm_actual = spectral_norm(G)\n",
    "print(\"Actual Spectral Norm:\", spectral_norm_actual)"
   ]
  },
  {
   "cell_type": "markdown",
   "id": "26d9fa62",
   "metadata": {},
   "source": [
    "## Testing Gram Iteration GoogleNet"
   ]
  },
  {
   "cell_type": "code",
   "execution_count": 14,
   "id": "4f4a5ca9",
   "metadata": {},
   "outputs": [],
   "source": [
    "# GoogleNet\n",
    "googlenet = models.googlenet(weights=True)"
   ]
  },
  {
   "cell_type": "code",
   "execution_count": 15,
   "id": "8975f044",
   "metadata": {},
   "outputs": [
    {
     "name": "stdout",
     "output_type": "stream",
     "text": [
      "(1000, 1024)\n"
     ]
    }
   ],
   "source": [
    "# accessing the first fully connected layer\n",
    "fc1 = googlenet.fc\n",
    "\n",
    "# extracting the weight matrix G as a NumPy array\n",
    "G = fc1.weight.data.numpy()\n",
    "print(G.shape)"
   ]
  },
  {
   "cell_type": "code",
   "execution_count": 16,
   "id": "ac9f4f0b",
   "metadata": {},
   "outputs": [
    {
     "name": "stdout",
     "output_type": "stream",
     "text": [
      "Spectral Norm using Gram Iteration: 7.566526087812277\n",
      "Actual Spectral Norm: 7.566526\n"
     ]
    }
   ],
   "source": [
    "num_iter = 10\n",
    "spectral_norm_gi = gram_iteration(G, num_iter)\n",
    "print(\"Spectral Norm using Gram Iteration:\", np.sqrt(spectral_norm_gi))\n",
    "spectral_norm_actual = spectral_norm(G)\n",
    "print(\"Actual Spectral Norm:\", spectral_norm_actual)"
   ]
  }
 ],
 "metadata": {
  "kernelspec": {
   "display_name": "Python 3 (ipykernel)",
   "language": "python",
   "name": "python3"
  },
  "language_info": {
   "codemirror_mode": {
    "name": "ipython",
    "version": 3
   },
   "file_extension": ".py",
   "mimetype": "text/x-python",
   "name": "python",
   "nbconvert_exporter": "python",
   "pygments_lexer": "ipython3",
   "version": "3.10.9"
  }
 },
 "nbformat": 4,
 "nbformat_minor": 5
}
