{
 "cells": [
  {
   "cell_type": "markdown",
   "id": "266fa668",
   "metadata": {},
   "source": [
    "#                                      LipSDP using CVXPY"
   ]
  },
  {
   "cell_type": "code",
   "execution_count": 1,
   "id": "ac54a88b",
   "metadata": {},
   "outputs": [],
   "source": [
    "# importing necessary libraries\n",
    "import cvxpy as cp\n",
    "import numpy as np"
   ]
  },
  {
   "cell_type": "code",
   "execution_count": 2,
   "id": "96ef669b",
   "metadata": {},
   "outputs": [],
   "source": [
    "# find_l_1 computes the lipschitz constant simply by computing the spectral norm of the weights\n",
    "# since it is a single layer neural network \n",
    "\n",
    "def find_l_1(W):\n",
    "    # computes 2-norm also known as Spectral norm\n",
    "    l = np.linalg.norm(W, ord=2)\n",
    "    return l"
   ]
  },
  {
   "cell_type": "code",
   "execution_count": 3,
   "id": "1a0705fa",
   "metadata": {},
   "outputs": [
    {
     "name": "stdout",
     "output_type": "stream",
     "text": [
      "Lipschitz constant: 1.0\n"
     ]
    }
   ],
   "source": [
    "# test case 1\n",
    "W = np.array([[1, 0],[0, 1]]) #weight matrix\n",
    "\n",
    "lipschitz_constant = find_l_1(W)\n",
    "print(f\"Lipschitz constant: {lipschitz_constant}\")"
   ]
  },
  {
   "cell_type": "code",
   "execution_count": 4,
   "id": "4ef62d82",
   "metadata": {},
   "outputs": [
    {
     "name": "stdout",
     "output_type": "stream",
     "text": [
      "Lipschitz constant: 65.19698634456758\n"
     ]
    }
   ],
   "source": [
    "# test case 2\n",
    "W = np.array([[62, 10],[-19, 10]]) #weight matrix\n",
    "\n",
    "lipschitz_constant = find_l_1(W)\n",
    "print(f\"Lipschitz constant: {lipschitz_constant}\")"
   ]
  },
  {
   "cell_type": "code",
   "execution_count": 5,
   "id": "0e222676",
   "metadata": {},
   "outputs": [
    {
     "name": "stdout",
     "output_type": "stream",
     "text": [
      "Lipschitz constant: 35799.45644372084\n"
     ]
    }
   ],
   "source": [
    "# test case 3\n",
    "W = np.array([[1020, 35783],[3, 371]]) #weight matrix\n",
    "\n",
    "lipschitz_constant = find_l_1(W)\n",
    "print(f\"Lipschitz constant: {lipschitz_constant}\")"
   ]
  },
  {
   "cell_type": "code",
   "execution_count": 14,
   "id": "528ac78e",
   "metadata": {},
   "outputs": [],
   "source": [
    "# find_l_2 computes the lipschitz constant by using the formula \n",
    "#||f(x)-f(y)|| <= L||x-y||\n",
    "\n",
    "def find_l_2(W):\n",
    "    \n",
    "    # defining the input dimension and output dimension\n",
    "    n = W.shape[1]\n",
    "    m = W.shape[0]\n",
    "\n",
    "    # defining the variables\n",
    "    x = cp.Variable(n)\n",
    "    y = cp.Variable(n)\n",
    "    t = cp.Variable(m)\n",
    "\n",
    "    # defining the objective function\n",
    "    obj = cp.Maximize(-cp.max(t)) \n",
    "\n",
    "    # defining the constraints\n",
    "    constraints = [\n",
    "        t >= 0,\n",
    "        t >= cp.sum(cp.abs(W.T @ (x - y))),\n",
    "        x >= 0,\n",
    "        y >= 0,\n",
    "        x <= 1,\n",
    "        y <= 1\n",
    "    ]\n",
    "\n",
    "    # defining the problem\n",
    "    prob = cp.Problem(obj, constraints)\n",
    "\n",
    "    # solving the problem\n",
    "    prob.solve()\n",
    "\n",
    "    # getting the Lipschitz constant\n",
    "    L = prob.value\n",
    "    \n",
    "    # returning the Lipschitz constant\n",
    "    return L"
   ]
  },
  {
   "cell_type": "code",
   "execution_count": 15,
   "id": "9309e677",
   "metadata": {},
   "outputs": [
    {
     "name": "stdout",
     "output_type": "stream",
     "text": [
      "Lipschitz constant: -1.9386620890319104e-09\n"
     ]
    }
   ],
   "source": [
    "# test case 1\n",
    "W = np.array([[1, 0],[0, 1]]) # weight matrix\n",
    "\n",
    "lipschitz_constant = find_l_2(W)\n",
    "print(f\"Lipschitz constant: {lipschitz_constant}\")"
   ]
  },
  {
   "cell_type": "code",
   "execution_count": 16,
   "id": "e215cc7f",
   "metadata": {},
   "outputs": [
    {
     "name": "stdout",
     "output_type": "stream",
     "text": [
      "Lipschitz constant: -2.48541684482281e-10\n"
     ]
    }
   ],
   "source": [
    "# test case 2\n",
    "W = np.array([[62, 10],[-19, 10]]) #weight matrix\n",
    "\n",
    "lipschitz_constant = find_l_2(W)\n",
    "print(f\"Lipschitz constant: {lipschitz_constant}\")"
   ]
  },
  {
   "cell_type": "code",
   "execution_count": 17,
   "id": "8848e908",
   "metadata": {},
   "outputs": [
    {
     "name": "stdout",
     "output_type": "stream",
     "text": [
      "Lipschitz constant: -3.508112080076276e-10\n"
     ]
    }
   ],
   "source": [
    "# test case 3\n",
    "W = np.array([[1020, 35783],[3, 371]]) #weight matrix\n",
    "\n",
    "lipschitz_constant = find_l_2(W)\n",
    "print(f\"Lipschitz constant: {lipschitz_constant}\")"
   ]
  }
 ],
 "metadata": {
  "kernelspec": {
   "display_name": "Python 3 (ipykernel)",
   "language": "python",
   "name": "python3"
  },
  "language_info": {
   "codemirror_mode": {
    "name": "ipython",
    "version": 3
   },
   "file_extension": ".py",
   "mimetype": "text/x-python",
   "name": "python",
   "nbconvert_exporter": "python",
   "pygments_lexer": "ipython3",
   "version": "3.10.9"
  }
 },
 "nbformat": 4,
 "nbformat_minor": 5
}
